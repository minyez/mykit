{
 "cells": [
  {
   "cell_type": "markdown",
   "metadata": {},
   "source": [
    "## Create POSCAR\n",
    "\n",
    "Zincblende ZnO, lattice constant $a=4.579$ Angstrom"
   ]
  },
  {
   "cell_type": "code",
   "execution_count": 1,
   "metadata": {},
   "outputs": [],
   "source": [
    "from mykit.vasp.poscar import poscar\n",
    "\n",
    "zZnO = poscar.zincblende(\"Zn\", \"O\", a=4.579, primitive=True)"
   ]
  },
  {
   "cell_type": "code",
   "execution_count": 2,
   "metadata": {},
   "outputs": [
    {
     "name": "stdout",
     "output_type": "stream",
     "text": [
      "Zincblende ZnO\n",
      "1.000000\n",
      "    0.00000000    2.28950000    2.28950000\n",
      "    2.28950000    0.00000000    2.28950000\n",
      "    2.28950000    2.28950000    0.00000000\n",
      "Zn O\n",
      "1 1\n",
      "Direct\n",
      "    0.000000000     0.000000000     0.000000000 #Zn\n",
      "    0.250000000     0.250000000     0.250000000 #O\n"
     ]
    }
   ],
   "source": [
    "# print zZnO to directly see the POSCAR\n",
    "print(zZnO)"
   ]
  },
  {
   "cell_type": "code",
   "execution_count": 3,
   "metadata": {},
   "outputs": [],
   "source": [
    "# export to POSCAR\n",
    "zZnO.write()"
   ]
  },
  {
   "cell_type": "markdown",
   "metadata": {},
   "source": [
    "## Export POTCAR from POSCAR\n",
    "\n",
    "The atom types in POSCAR can be extracted by `atomTypes` property (in order)"
   ]
  },
  {
   "cell_type": "code",
   "execution_count": 4,
   "metadata": {},
   "outputs": [
    {
     "data": {
      "text/plain": [
       "['Zn', 'O']"
      ]
     },
     "execution_count": 4,
     "metadata": {},
     "output_type": "execute_result"
    }
   ],
   "source": [
    "zZnO.atomTypes"
   ]
  },
  {
   "cell_type": "markdown",
   "metadata": {},
   "source": [
    "Parse it (expanded by `*`) to `potcar_search` to create an instance to search POTCARs for \"Zn\" and \"O\""
   ]
  },
  {
   "cell_type": "code",
   "execution_count": 5,
   "metadata": {},
   "outputs": [
    {
     "data": {
      "text/plain": [
       "('Zn', 'O')"
      ]
     },
     "execution_count": 5,
     "metadata": {},
     "output_type": "execute_result"
    }
   ],
   "source": [
    "from mykit.vasp.potcar import potcar_search\n",
    "\n",
    "pts = potcar_search(*zZnO.atomTypes, usegw=False) # usegw set True to search PAW with GW suffix only\n",
    "# print the names of POTCARs to search\n",
    "pts.names"
   ]
  },
  {
   "cell_type": "markdown",
   "metadata": {},
   "source": [
    "*N.B. You need first setup* `VASP_POT_PBE` *environment variable to your local PAW PBE directory to make the following work for you*\n",
    "\n",
    "Search the PAW PBE direcotry for available \"Zn\" and \"O\" POTCARs, together with their `ENMIN`s and `ENMAX`s"
   ]
  },
  {
   "cell_type": "code",
   "execution_count": 6,
   "metadata": {},
   "outputs": [
    {
     "data": {
      "text/plain": [
       "('/Users/stevezhang/software/sci/vasp/vasppot-5.4/potpaw_PBE/',\n",
       " {'Zn': {'Zn_GW': (246.143, 328.191),\n",
       "   'Zn': (207.542, 276.723),\n",
       "   'Zn_sv_GW': (301.249, 401.665)},\n",
       "  'O': {'O_GW': (310.976, 414.635),\n",
       "   'O_s': (212.14, 282.853),\n",
       "   'O_h': (500.0, 700.0),\n",
       "   'O_s_GW': (250.998, 334.664),\n",
       "   'O_GW_new': (325.824, 434.431),\n",
       "   'O': (300.0, 400.0),\n",
       "   'O_h_GW': (574.139, 765.519)}})"
      ]
     },
     "execution_count": 6,
     "metadata": {},
     "output_type": "execute_result"
    }
   ],
   "source": [
    "pts.search(xc=\"PBE\")"
   ]
  },
  {
   "cell_type": "markdown",
   "metadata": {},
   "source": [
    "After searching, you may specify the names of POTCARs, and export it to current directory."
   ]
  },
  {
   "cell_type": "code",
   "execution_count": 7,
   "metadata": {},
   "outputs": [
    {
     "data": {
      "text/plain": [
       "'/Users/stevezhang/software/sci/vasp/vasppot-5.4/potpaw_PBE/'"
      ]
     },
     "execution_count": 7,
     "metadata": {},
     "output_type": "execute_result"
    }
   ],
   "source": [
    "# Use Zn_sv_GW and O_GW\n",
    "pts.names = ('Zn_sv_GW', 'O_GW')\n",
    "pts.export(xc=\"PBE\") # return the searching path of PAW PBE"
   ]
  },
  {
   "cell_type": "markdown",
   "metadata": {},
   "source": [
    "## Create KPOINTS"
   ]
  },
  {
   "cell_type": "code",
   "execution_count": 8,
   "metadata": {},
   "outputs": [],
   "source": [
    "from mykit.vasp.kpoints import kpoints"
   ]
  },
  {
   "cell_type": "markdown",
   "metadata": {},
   "source": [
    "### Automatic kgrids with division\n",
    "\n",
    "A k-point grid with divisions along each reciprocal vector is often used for SCF and DOS calculation. It can be created by the following two line."
   ]
  },
  {
   "cell_type": "code",
   "execution_count": 9,
   "metadata": {},
   "outputs": [
    {
     "name": "stdout",
     "output_type": "stream",
     "text": [
      "KPOINTS generated by mykit\n",
      "0\n",
      "Gamma\n",
      " 4  4  4\n",
      " 0  0  0\n"
     ]
    }
   ],
   "source": [
    "kpt = kpoints(kgrid=[4,4,4], kmode=\"G\")\n",
    "# preview the KPOINTS\n",
    "print(kpt)"
   ]
  },
  {
   "cell_type": "markdown",
   "metadata": {},
   "source": [
    "A Gamma-centered KPOINTS is setup, and you may export it to the currenty directory"
   ]
  },
  {
   "cell_type": "code",
   "execution_count": 10,
   "metadata": {},
   "outputs": [],
   "source": [
    "# export to KPOINTS\n",
    "kpt.write()"
   ]
  },
  {
   "cell_type": "markdown",
   "metadata": {},
   "source": [
    "### K-point path for band structure\n",
    "\n",
    "For band structure calculation, a kpath is required, which has explicit coordinates of turning points in terms of reciprocal lattice vectors. For example, KPOINTS for computing band structure along $\\Gamma$-L-X in the Brillouin zone of cF lattice looks like\n",
    "\n",
    "```\n",
    "kpath\n",
    "15\n",
    "line\n",
    "reciprocal\n",
    "0.00 0.00 0.00 1 # GM\n",
    "0.50 0.50 0.50 1 # L\n",
    "\n",
    "0.50 0.50 0.50 1 # L\n",
    "0.50 0.00 0.50 1 # X\n",
    "```\n",
    "\n",
    "`kpoints` class can accept a dictionary for `kpath` keyword argument to create such KPOINTS file. It should have two key, namely `sysmbols` and `coordinates`, such as"
   ]
  },
  {
   "cell_type": "code",
   "execution_count": 11,
   "metadata": {},
   "outputs": [],
   "source": [
    "kpathDict = {\n",
    "    \"symbols\": [\"GM\", \"L\", \"L\", \"X\"],\n",
    "    \"coordinates\": \n",
    "        [[0.0,0.0,0.0],\n",
    "         [0.5,0.5,0.5],\n",
    "         [0.5,0.5,0.5],\n",
    "         [0.5,0.0,0.5]],\n",
    "}"
   ]
  },
  {
   "cell_type": "markdown",
   "metadata": {},
   "source": [
    "Then we create `kpoints` instance with `kmode`, `kpath` and `kdense` keyword"
   ]
  },
  {
   "cell_type": "code",
   "execution_count": 12,
   "metadata": {},
   "outputs": [],
   "source": [
    "kpath = kpoints(kmode=\"L\", kdense=15, kpath=kpathDict)"
   ]
  },
  {
   "cell_type": "markdown",
   "metadata": {},
   "source": [
    "Preview the output by print it"
   ]
  },
  {
   "cell_type": "code",
   "execution_count": 13,
   "metadata": {},
   "outputs": [
    {
     "name": "stdout",
     "output_type": "stream",
     "text": [
      "KPOINTS generated by mykit\n",
      "15\n",
      "Line\n",
      "Reciprocal\n",
      " 0.000000  0.000000  0.000000 1 #GM\n",
      " 0.500000  0.500000  0.500000 1 #L\n",
      "\n",
      " 0.500000  0.500000  0.500000 1 #L\n",
      " 0.500000  0.000000  0.500000 1 #X\n",
      "\n"
     ]
    }
   ],
   "source": [
    "print(kpath)"
   ]
  },
  {
   "cell_type": "markdown",
   "metadata": {},
   "source": [
    "As you may find, `kpathDict` is just what you have to type manually in the KPOINTS file, making it unnecessary to build an instance to do this. Moreover, you have to know all the symbols and coordinates before hand.\n",
    "\n",
    "To make it easier to create kpath, a `special_kpoints` class is implemented. It can be instantialized by a `poscar` instance, e.g. `zZnO` we created above"
   ]
  },
  {
   "cell_type": "code",
   "execution_count": 14,
   "metadata": {},
   "outputs": [],
   "source": [
    "from mykit.core.symmetry import special_kpoints\n",
    "\n",
    "spk_zb =  special_kpoints.from_cell(zZnO)"
   ]
  },
  {
   "cell_type": "markdown",
   "metadata": {},
   "source": [
    "Special k-points symbols and their coordinates in reciprocal vectors of primitive cell that are defined for Zincblende (space group 216, oF) can be shown by `spkCoord` attribute"
   ]
  },
  {
   "cell_type": "code",
   "execution_count": 15,
   "metadata": {},
   "outputs": [
    {
     "data": {
      "text/plain": [
       "{'GM': [0.0, 0.0, 0.0],\n",
       " 'X': [0.5, 0.0, 0.5],\n",
       " 'L': [0.5, 0.5, 0.5],\n",
       " 'W': [0.5, 0.25, 0.75],\n",
       " 'K': [0.375, 0.375, 0.75]}"
      ]
     },
     "execution_count": 15,
     "metadata": {},
     "output_type": "execute_result"
    }
   ],
   "source": [
    "spk_zb.spkCoord"
   ]
  },
  {
   "cell_type": "markdown",
   "metadata": {},
   "source": [
    "To create a `kpathDict`-like object, you only need to use the `convert_kpath` method with an intuitive kpath string `'GM-L-X'`"
   ]
  },
  {
   "cell_type": "code",
   "execution_count": 16,
   "metadata": {},
   "outputs": [
    {
     "data": {
      "text/plain": [
       "{'symbols': ['GM', 'L', 'L', 'X'], 'coordinates': array([[0. , 0. , 0. ],\n",
       "        [0.5, 0.5, 0.5],\n",
       "        [0.5, 0.5, 0.5],\n",
       "        [0.5, 0. , 0.5]])}"
      ]
     },
     "execution_count": 16,
     "metadata": {},
     "output_type": "execute_result"
    }
   ],
   "source": [
    "kpathDict2 = spk_zb.convert_kpath('GM-L-X')\n",
    "kpathDict2"
   ]
  },
  {
   "cell_type": "markdown",
   "metadata": {},
   "source": [
    "It should be noted that the coordinates of special kpoints depend on whether you are using primitive or conventional cell. `convert_kpath` already takes care this for you and converts to conventional coordinates if the input cell is conventional.\n",
    "\n",
    "Now you can create the KPOINTS file with `kpathDict2` and preview it"
   ]
  },
  {
   "cell_type": "code",
   "execution_count": 17,
   "metadata": {},
   "outputs": [
    {
     "name": "stdout",
     "output_type": "stream",
     "text": [
      "KPOINTS generated by mykit\n",
      "15\n",
      "Line\n",
      "Reciprocal\n",
      " 0.000000  0.000000  0.000000 1 #GM\n",
      " 0.500000  0.500000  0.500000 1 #L\n",
      "\n",
      " 0.500000  0.500000  0.500000 1 #L\n",
      " 0.500000  0.000000  0.500000 1 #X\n",
      "\n"
     ]
    }
   ],
   "source": [
    "kpath = kpoints(kmode=\"L\", kdense=15, kpath=kpathDict2)\n",
    "print(kpath)"
   ]
  },
  {
   "cell_type": "markdown",
   "metadata": {},
   "source": [
    "Another class method, `get_kpath_from_cell`, skips the instantialization of `special_kpoints` and directly returns the kpath dictionary"
   ]
  },
  {
   "cell_type": "code",
   "execution_count": 18,
   "metadata": {},
   "outputs": [
    {
     "name": "stdout",
     "output_type": "stream",
     "text": [
      "KPOINTS generated by mykit\n",
      "15\n",
      "Line\n",
      "Reciprocal\n",
      " 0.000000  0.000000  0.000000 1 #GM\n",
      " 0.500000  0.500000  0.500000 1 #L\n",
      "\n",
      " 0.500000  0.500000  0.500000 1 #L\n",
      " 0.500000  0.000000  0.500000 1 #X\n",
      "\n"
     ]
    }
   ],
   "source": [
    "kpathDict3 = special_kpoints.get_kpath_from_cell('GM-L-X', zZnO)\n",
    "kpath = kpoints(kmode=\"L\", kdense=15, kpath=kpathDict3)\n",
    "print(kpath)"
   ]
  }
 ],
 "metadata": {
  "kernelspec": {
   "display_name": "Python 3",
   "language": "python",
   "name": "python3"
  },
  "language_info": {
   "codemirror_mode": {
    "name": "ipython",
    "version": 3
   },
   "file_extension": ".py",
   "mimetype": "text/x-python",
   "name": "python",
   "nbconvert_exporter": "python",
   "pygments_lexer": "ipython3",
   "version": "3.7.1"
  }
 },
 "nbformat": 4,
 "nbformat_minor": 2
}

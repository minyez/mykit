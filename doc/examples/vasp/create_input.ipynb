{
 "cells": [
  {
   "cell_type": "markdown",
   "metadata": {},
   "source": [
    "## Create POSCAR\n",
    "\n",
    "Zincblende ZnO, lattice constant $a=4.579$ Angstrom"
   ]
  },
  {
   "cell_type": "code",
   "execution_count": 26,
   "metadata": {},
   "outputs": [],
   "source": [
    "from mykit.vasp.poscar import poscar\n",
    "\n",
    "zZnO = poscar.zincblende(\"Zn\", \"O\", aLatt=4.579)"
   ]
  },
  {
   "cell_type": "code",
   "execution_count": 27,
   "metadata": {},
   "outputs": [
    {
     "name": "stdout",
     "output_type": "stream",
     "text": [
      "Zincblende ZnO\n",
      "1.000000\n",
      "    4.57900000    0.00000000    0.00000000\n",
      "    0.00000000    4.57900000    0.00000000\n",
      "    0.00000000    0.00000000    4.57900000\n",
      "Zn O\n",
      "4 4\n",
      "Direct\n",
      "    0.000000000     0.000000000     0.000000000 #Zn\n",
      "    0.000000000     0.500000000     0.500000000 #Zn\n",
      "    0.500000000     0.000000000     0.500000000 #Zn\n",
      "    0.500000000     0.500000000     0.000000000 #Zn\n",
      "    0.250000000     0.250000000     0.250000000 #O\n",
      "    0.250000000     0.750000000     0.750000000 #O\n",
      "    0.750000000     0.250000000     0.750000000 #O\n",
      "    0.750000000     0.750000000     0.250000000 #O\n"
     ]
    }
   ],
   "source": [
    "# print zZnO to directly see the POSCAR\n",
    "print(zZnO)"
   ]
  },
  {
   "cell_type": "code",
   "execution_count": 28,
   "metadata": {},
   "outputs": [],
   "source": [
    "# export to POSCAR\n",
    "zZnO.write()"
   ]
  },
  {
   "cell_type": "markdown",
   "metadata": {},
   "source": [
    "## Export POTCAR from POSCAR\n",
    "\n",
    "The atom types in POSCAR can be extracted by `atomTypes` property (in order)"
   ]
  },
  {
   "cell_type": "code",
   "execution_count": 29,
   "metadata": {},
   "outputs": [
    {
     "data": {
      "text/plain": [
       "['Zn', 'O']"
      ]
     },
     "execution_count": 29,
     "metadata": {},
     "output_type": "execute_result"
    }
   ],
   "source": [
    "zZnO.atomTypes"
   ]
  },
  {
   "cell_type": "markdown",
   "metadata": {},
   "source": [
    "Parse it (expanded by `*`) to `potcar_search` to create an instance to search POTCARs for \"Zn\" and \"O\""
   ]
  },
  {
   "cell_type": "code",
   "execution_count": 30,
   "metadata": {},
   "outputs": [],
   "source": [
    "from mykit.vasp.potcar import potcar_search\n",
    "\n",
    "pts = potcar_search(*zZnO.atomTypes, usegw=False) # usegw set True to search PAW with GW suffix only"
   ]
  },
  {
   "cell_type": "code",
   "execution_count": 31,
   "metadata": {},
   "outputs": [
    {
     "data": {
      "text/plain": [
       "('Zn', 'O')"
      ]
     },
     "execution_count": 31,
     "metadata": {},
     "output_type": "execute_result"
    }
   ],
   "source": [
    "# print the names of POTCARs to search\n",
    "pts.names"
   ]
  },
  {
   "cell_type": "markdown",
   "metadata": {},
   "source": [
    "*N.B. You need first setup* `VASP_POT_PBE` *environment variable to your local PBE PAW directory to make the following work for you*\n",
    "\n",
    "Search the PAW PBE direcotry for available \"Zn\" and \"O\" POTCARs, together with their `ENMIN`s and `ENMAX`s"
   ]
  },
  {
   "cell_type": "code",
   "execution_count": 32,
   "metadata": {},
   "outputs": [
    {
     "data": {
      "text/plain": [
       "('/Users/stevezhang/software/sci/vasp/vasppot-5.4/potpaw_PBE/',\n",
       " {'Zn': {'Zn_GW': (246.143, 328.191),\n",
       "   'Zn': (207.542, 276.723),\n",
       "   'Zn_sv_GW': (301.249, 401.665)},\n",
       "  'O': {'O_GW': (310.976, 414.635),\n",
       "   'O_s': (212.14, 282.853),\n",
       "   'O_h': (500.0, 700.0),\n",
       "   'O_s_GW': (250.998, 334.664),\n",
       "   'O_GW_new': (325.824, 434.431),\n",
       "   'O': (300.0, 400.0),\n",
       "   'O_h_GW': (574.139, 765.519)}})"
      ]
     },
     "execution_count": 32,
     "metadata": {},
     "output_type": "execute_result"
    }
   ],
   "source": [
    "pts.search(xc=\"PBE\")"
   ]
  },
  {
   "cell_type": "markdown",
   "metadata": {},
   "source": [
    "Export the POTCAR to current directory. "
   ]
  },
  {
   "cell_type": "code",
   "execution_count": 33,
   "metadata": {},
   "outputs": [
    {
     "data": {
      "text/plain": [
       "'/Users/stevezhang/software/sci/vasp/vasppot-5.4/potpaw_PBE/'"
      ]
     },
     "execution_count": 33,
     "metadata": {},
     "output_type": "execute_result"
    }
   ],
   "source": [
    "pts.export(xc=\"PBE\") # return the searching path of PAW PBE"
   ]
  },
  {
   "cell_type": "markdown",
   "metadata": {},
   "source": [
    "## Create KPOINTS"
   ]
  },
  {
   "cell_type": "code",
   "execution_count": 34,
   "metadata": {},
   "outputs": [],
   "source": [
    "from mykit.vasp.kpoints import kpoints"
   ]
  },
  {
   "cell_type": "markdown",
   "metadata": {},
   "source": [
    "### Gamma-centered kgrids"
   ]
  },
  {
   "cell_type": "code",
   "execution_count": 35,
   "metadata": {},
   "outputs": [],
   "source": [
    "kpt = kpoints(kgrid=[4,4,4])"
   ]
  },
  {
   "cell_type": "code",
   "execution_count": 36,
   "metadata": {},
   "outputs": [
    {
     "name": "stdout",
     "output_type": "stream",
     "text": [
      "KPOINTS generated by mykit\n",
      "0\n",
      "Gamma\n",
      "  4   4   4\n",
      "  0   0   0\n"
     ]
    }
   ],
   "source": [
    "# preview the KPOINTS\n",
    "kpt.print()"
   ]
  },
  {
   "cell_type": "code",
   "execution_count": 37,
   "metadata": {},
   "outputs": [],
   "source": [
    "# export to KPOINTS\n",
    "kpt.write()"
   ]
  },
  {
   "cell_type": "code",
   "execution_count": null,
   "metadata": {},
   "outputs": [],
   "source": []
  }
 ],
 "metadata": {
  "kernelspec": {
   "display_name": "Python 3",
   "language": "python",
   "name": "python3"
  },
  "language_info": {
   "codemirror_mode": {
    "name": "ipython",
    "version": 3
   },
   "file_extension": ".py",
   "mimetype": "text/x-python",
   "name": "python",
   "nbconvert_exporter": "python",
   "pygments_lexer": "ipython3",
   "version": "3.7.1"
  }
 },
 "nbformat": 4,
 "nbformat_minor": 2
}

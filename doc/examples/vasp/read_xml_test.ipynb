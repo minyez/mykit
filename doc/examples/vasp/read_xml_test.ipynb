{
 "cells": [
  {
   "cell_type": "code",
   "execution_count": 1,
   "metadata": {},
   "outputs": [],
   "source": [
    "from mykit.vasp.xml import Vasprunxml\n",
    "import os\n",
    "import numpy as np\n",
    "\n",
    "testxml = os.path.join(os.environ[\"PWD\"], '..', '..', 'test', 'testdata', 'vasp', 'vasprun_partial', 'vasprun_0.xml')"
   ]
  },
  {
   "cell_type": "code",
   "execution_count": 2,
   "metadata": {},
   "outputs": [],
   "source": [
    "vxml = Vasprunxml(testxml)"
   ]
  },
  {
   "cell_type": "code",
   "execution_count": 3,
   "metadata": {},
   "outputs": [
    {
     "data": {
      "text/plain": [
       "{'SYSTEM': '2dioPd111-k331-e5', 'NWRITE': 1, 'ISTART': 0, 'ICHARG': 2, 'LREAL': 'Auto', 'EDIFF': 0.0001, 'ENCUT': 250.0, 'NSIM': 4, 'ISMEAR': 0, 'PREC': 'accurate', 'ISPIN': 2, 'NELM': 1000, 'NELMIN': 2, 'NELMDL': -5, 'LORBIT': False, 'ALGO': 'Fast', 'INIWAV': 1, 'GGA': 'PE', 'LAECHG': True, 'ADDGRID': True, 'LSORBIT': False, 'NSW': 0, 'IBRION': 2, 'ISIF': 2, 'ISYM': 0, 'EDIFFG': -0.05, 'KPOINT_BSE': [-1, 0, 0, 0], 'NUPDOWN': -1.0}"
      ]
     },
     "execution_count": 3,
     "metadata": {},
     "output_type": "execute_result"
    }
   ],
   "source": [
    "vxml.incar"
   ]
  },
  {
   "cell_type": "code",
   "execution_count": 4,
   "metadata": {},
   "outputs": [
    {
     "data": {
      "text/plain": [
       "(64, 36, 64)"
      ]
     },
     "execution_count": 4,
     "metadata": {},
     "output_type": "execute_result"
    }
   ],
   "source": [
    "sum(vxml._weight), vxml._nibzkpt, vxml._nkpt"
   ]
  },
  {
   "cell_type": "code",
   "execution_count": 5,
   "metadata": {},
   "outputs": [
    {
     "data": {
      "text/plain": [
       "(2, 36, 9)"
      ]
     },
     "execution_count": 5,
     "metadata": {},
     "output_type": "execute_result"
    }
   ],
   "source": [
    "np.shape(vxml.occ)"
   ]
  },
  {
   "cell_type": "code",
   "execution_count": 6,
   "metadata": {},
   "outputs": [
    {
     "data": {
      "text/plain": [
       "vasprun.xml finalpos\n",
       "1.000000\n",
       "    2.71500000    2.71500000    0.00000000\n",
       "    0.00000000    2.71500000    2.71500000\n",
       "    2.71500000    0.00000000    2.71500000\n",
       "Si\n",
       "2\n",
       "Direct\n",
       "    0.000000000     0.000000000     0.000000000 #Si\n",
       "    0.250000000     0.250000000     0.250000000 #Si"
      ]
     },
     "execution_count": 6,
     "metadata": {},
     "output_type": "execute_result"
    }
   ],
   "source": [
    "vxml._finalPoscar"
   ]
  },
  {
   "cell_type": "code",
   "execution_count": 7,
   "metadata": {},
   "outputs": [
    {
     "data": {
      "text/plain": [
       "5.84485627"
      ]
     },
     "execution_count": 7,
     "metadata": {},
     "output_type": "execute_result"
    }
   ],
   "source": [
    "vxml.efermi"
   ]
  },
  {
   "cell_type": "code",
   "execution_count": 8,
   "metadata": {},
   "outputs": [
    {
     "data": {
      "text/plain": [
       "(2, 301)"
      ]
     },
     "execution_count": 8,
     "metadata": {},
     "output_type": "execute_result"
    }
   ],
   "source": [
    "np.shape(vxml._totalDos)"
   ]
  },
  {
   "cell_type": "code",
   "execution_count": 9,
   "metadata": {},
   "outputs": [
    {
     "data": {
      "text/plain": [
       "(2, 301, 2, 3)"
      ]
     },
     "execution_count": 9,
     "metadata": {},
     "output_type": "execute_result"
    }
   ],
   "source": [
    "np.shape(vxml._pDos)"
   ]
  },
  {
   "cell_type": "code",
   "execution_count": 10,
   "metadata": {},
   "outputs": [],
   "source": [
    "bs = vxml.load_band()"
   ]
  },
  {
   "cell_type": "code",
   "execution_count": 11,
   "metadata": {},
   "outputs": [
    {
     "data": {
      "text/plain": [
       "True"
      ]
     },
     "execution_count": 11,
     "metadata": {},
     "output_type": "execute_result"
    }
   ],
   "source": [
    "bs.hasProjection"
   ]
  }
 ],
 "metadata": {
  "kernelspec": {
   "display_name": "Python 3",
   "language": "python",
   "name": "python3"
  },
  "language_info": {
   "codemirror_mode": {
    "name": "ipython",
    "version": 3
   },
   "file_extension": ".py",
   "mimetype": "text/x-python",
   "name": "python",
   "nbconvert_exporter": "python",
   "pygments_lexer": "ipython3",
   "version": "3.7.1"
  }
 },
 "nbformat": 4,
 "nbformat_minor": 2
}

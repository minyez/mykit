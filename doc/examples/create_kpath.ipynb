{
 "cells": [
  {
   "cell_type": "markdown",
   "metadata": {},
   "source": [
    "# Create a path in reciprocal space\n",
    "\n",
    "This example shows how to create a k-point path in the reciprocal space by using utilities in `mykit`.\n",
    "\n",
    "Mainly the `Cell` class in `mykit.core.cell` and `SpecialKpoints` in `mykit.core.symmetry` will be used."
   ]
  },
  {
   "cell_type": "code",
   "execution_count": null,
   "metadata": {},
   "outputs": [],
   "source": [
    "from mykit.core.cell import Cell\n",
    "from mykit.core.symmetry import SpecialKpoints"
   ]
  },
  {
   "cell_type": "markdown",
   "metadata": {},
   "source": [
    "Suppose we are going to draw the path in the Brillouin zone of a zincblende lattice, $\\alpha$-CuCl, for example.\n",
    "\n",
    "Create a *primitive* zincblende cell of CuCl"
   ]
  },
  {
   "cell_type": "code",
   "execution_count": null,
   "metadata": {},
   "outputs": [],
   "source": [
    "cucl = Cell.zincblende(\"Cu\", \"Cl\", a=5.42, primitive=True)"
   ]
  },
  {
   "cell_type": "markdown",
   "metadata": {},
   "source": [
    "A `SpecialKpoints` instance can be created directly from a `Cell` instance"
   ]
  },
  {
   "cell_type": "code",
   "execution_count": null,
   "metadata": {},
   "outputs": [],
   "source": [
    "spkpt_cucl = SpecialKpoints.from_cell(cucl, custom_symbols={\"P\": [0.2,0.2,0.2]})"
   ]
  },
  {
   "cell_type": "markdown",
   "metadata": {},
   "source": [
    "Check the available specail kpoints symbols, including the custom \"P\""
   ]
  },
  {
   "cell_type": "code",
   "execution_count": null,
   "metadata": {},
   "outputs": [],
   "source": [
    "spkpt_cucl.spkSym"
   ]
  },
  {
   "cell_type": "markdown",
   "metadata": {},
   "source": [
    "Now we define a kpath of $\\Gamma$-X-L-W-K, and use `convert_kpath` method to generate the coordinates of ends of all line segments"
   ]
  },
  {
   "cell_type": "code",
   "execution_count": null,
   "metadata": {},
   "outputs": [],
   "source": [
    "kpathStr = 'GM-X-L-W-K-P'\n",
    "kpath = spkpt_cucl.convert_kpath(kpathStr)\n",
    "kpath"
   ]
  },
  {
   "cell_type": "markdown",
   "metadata": {},
   "source": [
    "draw this path in a 3D plot"
   ]
  },
  {
   "cell_type": "code",
   "execution_count": null,
   "metadata": {},
   "outputs": [],
   "source": [
    "%matplotlib notebook\n",
    "import matplotlib.pyplot as plt\n",
    "from mpl_toolkits.mplot3d.axes3d import Axes3D, get_test_data\n",
    "import numpy as np"
   ]
  },
  {
   "cell_type": "code",
   "execution_count": null,
   "metadata": {
    "scrolled": false
   },
   "outputs": [],
   "source": [
    "fig = plt.figure(figsize=(5,5))\n",
    "ax = fig.add_subplot(1,1,1,projection='3d')\n",
    "\n",
    "# draw  reciprocal lattice vector\n",
    "b = cucl.b\n",
    "for _i in range(3):\n",
    "    a = np.vstack(([0.0,0.0,0.0],b[_i,:]))\n",
    "    ax.plot(a[:,0], a[:,1], a[:,2], color=\"black\", linewidth=4)\n",
    "\n",
    "coords = kpath[\"coordinates\"]\n",
    "syms = kpath[\"symbols\"]\n",
    "# draw the path\n",
    "ax.plot(coords[:,0], coords[:,1], coords[:,2], color=\"red\", linewidth=2)\n",
    "# annotate the symbols\n",
    "for i, sym in enumerate(syms):\n",
    "    if sym in syms[:i]:\n",
    "        continue\n",
    "    ax.text(*coords[i,:], sym)"
   ]
  },
  {
   "cell_type": "markdown",
   "metadata": {},
   "source": [
    "It is not obvious since the boundaries of Brillouin zone are not plotted. This feature might be added in the future."
   ]
  },
  {
   "cell_type": "code",
   "execution_count": null,
   "metadata": {},
   "outputs": [],
   "source": []
  }
 ],
 "metadata": {
  "kernelspec": {
   "display_name": "Python 3",
   "language": "python",
   "name": "python3"
  },
  "language_info": {
   "codemirror_mode": {
    "name": "ipython",
    "version": 3
   },
   "file_extension": ".py",
   "mimetype": "text/x-python",
   "name": "python",
   "nbconvert_exporter": "python",
   "pygments_lexer": "ipython3",
   "version": "3.7.1"
  }
 },
 "nbformat": 4,
 "nbformat_minor": 2
}

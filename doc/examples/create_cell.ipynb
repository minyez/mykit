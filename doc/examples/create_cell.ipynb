{
 "cells": [
  {
   "cell_type": "code",
   "execution_count": 1,
   "metadata": {},
   "outputs": [],
   "source": [
    "from mykit.core.cell import Cell"
   ]
  },
  {
   "cell_type": "markdown",
   "metadata": {},
   "source": [
    "## Direct creation"
   ]
  },
  {
   "cell_type": "markdown",
   "metadata": {},
   "source": [
    "Use `latt`, `atoms`, `pos` to create a `Cell` instance.\n",
    "\n",
    "Here create a simple cubic lattice of \"C\" with lattice constant as 5 Angstrom"
   ]
  },
  {
   "cell_type": "code",
   "execution_count": 2,
   "metadata": {},
   "outputs": [],
   "source": [
    "# the name of argument can be omitted, \n",
    "# but in this case the order must be latt, atoms, pos\n",
    "simpleCubic = Cell(\n",
    "                latt=[[5.0,0.0,0.0],\n",
    "                      [0.0,5.0,0.0],\n",
    "                      [0.0,0.0,5.0]],\n",
    "                atoms=[\"C\"],\n",
    "                pos=[[0.0,0.0,0.0]],\n",
    "                unit=\"ang\",\n",
    "                  )"
   ]
  },
  {
   "cell_type": "markdown",
   "metadata": {},
   "source": [
    "## Use factory methods to create typical crystal cells"
   ]
  },
  {
   "cell_type": "code",
   "execution_count": 3,
   "metadata": {},
   "outputs": [],
   "source": [
    "# wurtzite ZnS\n",
    "wZnS = Cell.wurtzite(\"Zn\", \"S\", a=3.2)\n",
    "# pritimive diamond C\n",
    "dC = Cell.diamond(\"C\", a=2.52, primitive=True)\n",
    "# rutile TiO2\n",
    "rTiO2 = Cell.rutile(\"Ti\", \"O\", a=4.2, c=3.1, u=0.31)\n",
    "# primitive anatase TiO2\n",
    "aTiO2 = Cell.anatase(\"Ti\", \"O\", a=3.7845, c=9.5143, u=0.2199, primitive=True)\n",
    "# perovskite BaTiO3\n",
    "BaTiO3 = Cell.perovskite(\"Ba\", \"Ti\", \"O\", a=6.7)"
   ]
  },
  {
   "cell_type": "code",
   "execution_count": 4,
   "metadata": {},
   "outputs": [
    {
     "name": "stdout",
     "output_type": "stream",
     "text": [
      "Rutile TiO2\n",
      "Lattice:\n",
      "[[-1.89225  1.89225  4.75715]\n",
      " [ 1.89225 -1.89225  4.75715]\n",
      " [ 1.89225  1.89225 -4.75715]]\n",
      "Atoms: ['Ti', 'Ti', 'O', 'O', 'O', 'O']\n",
      "Positions:\n",
      "[[0.     0.     0.    ]\n",
      " [0.75   0.25   0.5   ]\n",
      " [0.0301 0.5301 0.5   ]\n",
      " [0.4699 0.9699 0.5   ]\n",
      " [0.7199 0.7199 0.    ]\n",
      " [0.2801 0.2801 0.    ]]\n",
      "Unit: ang\n",
      "Coordinates in D\n"
     ]
    }
   ],
   "source": [
    "print(aTiO2)"
   ]
  },
  {
   "cell_type": "markdown",
   "metadata": {},
   "source": [
    "Check the space group of anatase (141)"
   ]
  },
  {
   "cell_type": "code",
   "execution_count": 5,
   "metadata": {},
   "outputs": [
    {
     "data": {
      "text/plain": [
       "(141, 'I4_1/amd')"
      ]
     },
     "execution_count": 5,
     "metadata": {},
     "output_type": "execute_result"
    }
   ],
   "source": [
    "from mykit.core.symmetry import Symmetry\n",
    "\n",
    "Symmetry.get_spg(aTiO2)"
   ]
  },
  {
   "cell_type": "code",
   "execution_count": null,
   "metadata": {},
   "outputs": [],
   "source": []
  }
 ],
 "metadata": {
  "kernelspec": {
   "display_name": "Python 3",
   "language": "python",
   "name": "python3"
  },
  "language_info": {
   "codemirror_mode": {
    "name": "ipython",
    "version": 3
   },
   "file_extension": ".py",
   "mimetype": "text/x-python",
   "name": "python",
   "nbconvert_exporter": "python",
   "pygments_lexer": "ipython3",
   "version": "3.7.1"
  }
 },
 "nbformat": 4,
 "nbformat_minor": 2
}

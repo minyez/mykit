{
 "cells": [
  {
   "cell_type": "code",
   "execution_count": 1,
   "metadata": {},
   "outputs": [],
   "source": [
    "from mykit.core.cell import Cell"
   ]
  },
  {
   "cell_type": "markdown",
   "metadata": {},
   "source": [
    "## Direct creation"
   ]
  },
  {
   "cell_type": "markdown",
   "metadata": {},
   "source": [
    "Use `latt`, `atoms`, `pos` to create a `Cell` instance.\n",
    "\n",
    "Here create a simple cubic lattice of \"C\" with lattice constant as 5 Angstrom"
   ]
  },
  {
   "cell_type": "code",
   "execution_count": 11,
   "metadata": {},
   "outputs": [],
   "source": [
    "# the name of argument can be omitted, \n",
    "# but in this case the order must be latt, atoms, pos\n",
    "simpleCubic = Cell(\n",
    "                latt=[[5.0,0.0,0.0],\n",
    "                      [0.0,5.0,0.0],\n",
    "                      [0.0,0.0,5.0]],\n",
    "                atoms=[\"C\"],\n",
    "                pos=[[0.0,0.0,0.0]],\n",
    "                  )"
   ]
  },
  {
   "cell_type": "markdown",
   "metadata": {},
   "source": [
    "## Use factory methods to create typical crystal cells"
   ]
  },
  {
   "cell_type": "code",
   "execution_count": 12,
   "metadata": {},
   "outputs": [],
   "source": [
    "# wurtzite ZnS\n",
    "wZnS = Cell.wurtzite(\"Zn\", \"S\", a=3.2)\n",
    "# diamond C\n",
    "dC = Cell.diamond(\"C\", a=2.52, primitive=True)\n",
    "# rutile TiO2\n",
    "rTiO2 = Cell.rutile(\"Ti\", \"O\", a=4.2, c=3.1, u=0.31)"
   ]
  },
  {
   "cell_type": "code",
   "execution_count": null,
   "metadata": {},
   "outputs": [],
   "source": []
  }
 ],
 "metadata": {
  "kernelspec": {
   "display_name": "Python 3",
   "language": "python",
   "name": "python3"
  },
  "language_info": {
   "codemirror_mode": {
    "name": "ipython",
    "version": 3
   },
   "file_extension": ".py",
   "mimetype": "text/x-python",
   "name": "python",
   "nbconvert_exporter": "python",
   "pygments_lexer": "ipython3",
   "version": "3.7.1"
  }
 },
 "nbformat": 4,
 "nbformat_minor": 2
}
